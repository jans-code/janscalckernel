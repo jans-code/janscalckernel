{
 "cells": [
  {
   "cell_type": "code",
   "execution_count": 1,
   "id": "15d6f90a-fd98-4587-a9b0-84fd93684433",
   "metadata": {
    "tags": []
   },
   "outputs": [
    {
     "name": "stdout",
     "output_type": "stream",
     "text": [
      "1593"
     ]
    }
   ],
   "source": [
    "256 + 1337"
   ]
  },
  {
   "cell_type": "code",
   "execution_count": 2,
   "id": "fbf54db9-bb13-492b-9001-2f0834cb2d81",
   "metadata": {
    "tags": []
   },
   "outputs": [
    {
     "name": "stdout",
     "output_type": "stream",
     "text": [
      "26112"
     ]
    }
   ],
   "source": [
    "34 * 768"
   ]
  },
  {
   "cell_type": "code",
   "execution_count": 3,
   "id": "17fbce0c-9ea1-4a3f-ab39-e7854b2e9e75",
   "metadata": {
    "tags": []
   },
   "outputs": [
    {
     "name": "stdout",
     "output_type": "stream",
     "text": [
      "0.74511316047934878699"
     ]
    }
   ],
   "source": [
    "sin(40)"
   ]
  }
 ],
 "metadata": {
  "kernelspec": {
   "display_name": "calc",
   "language": "",
   "name": "janscalckernel"
  },
  "language_info": {
   "file_extension": ".txt",
   "mimetype": "text/plain",
   "name": "calc"
  }
 },
 "nbformat": 4,
 "nbformat_minor": 5
}
